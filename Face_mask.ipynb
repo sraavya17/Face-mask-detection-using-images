{
  "nbformat": 4,
  "nbformat_minor": 0,
  "metadata": {
    "colab": {
      "provenance": []
    },
    "kernelspec": {
      "name": "python3",
      "display_name": "Python 3"
    },
    "language_info": {
      "name": "python"
    }
  },
  "cells": [
    {
      "cell_type": "code",
      "source": [
        "import kagglehub\n",
        "import os\n",
        "import matplotlib.pyplot as plt\n",
        "import cv2\n",
        "import numpy as np\n",
        "import pandas as pd\n",
        "import tqdm\n",
        "from collections import Counter"
      ],
      "metadata": {
        "id": "03dW-TWv5n_Z"
      },
      "execution_count": null,
      "outputs": []
    },
    {
      "cell_type": "code",
      "source": [
        "data_path = kagglehub.dataset_download('omkargurav/face-mask-dataset')\n",
        "data_path = os.path.join(data_path, 'data')\n",
        "print('path to dataset:',data_path)"
      ],
      "metadata": {
        "colab": {
          "base_uri": "https://localhost:8080/"
        },
        "id": "5Sg74LMU5oDr",
        "outputId": "30cb2ccf-76ed-4506-899f-2685e016673f"
      },
      "execution_count": null,
      "outputs": [
        {
          "output_type": "stream",
          "name": "stdout",
          "text": [
            "path to dataset: /root/.cache/kagglehub/datasets/omkargurav/face-mask-dataset/versions/1/data\n"
          ]
        }
      ]
    },
    {
      "cell_type": "code",
      "source": [
        "labels=['with_mask', 'without_mask']\n",
        "\n",
        "img_arr = []\n",
        "img_label = []\n",
        "\n",
        "for label in labels:\n",
        "  path = os.path.join(data_path, label)\n",
        "\n",
        "  for img_name in tqdm.tqdm(os.listdir(path)):\n",
        "    img_path = os.path.join(path, img_name)\n",
        "    img = cv2.imread(img_path)\n",
        "    img = cv2.resize(img,(128,128))\n",
        "    img_arr.append(img)\n",
        "    img_label.append(label)"
      ],
      "metadata": {
        "colab": {
          "base_uri": "https://localhost:8080/"
        },
        "id": "y2QVEgzI5oGE",
        "outputId": "80f41e4e-8dba-4f88-93ac-2e3223dc4d6e"
      },
      "execution_count": null,
      "outputs": [
        {
          "output_type": "stream",
          "name": "stderr",
          "text": [
            "100%|██████████| 3725/3725 [00:10<00:00, 348.57it/s]\n",
            "100%|██████████| 3828/3828 [00:04<00:00, 857.88it/s] \n"
          ]
        }
      ]
    },
    {
      "cell_type": "code",
      "source": [
        "img_arr = np.array(img_arr)\n",
        "img_label = np.array(img_label)\n",
        "\n",
        "img_arr.shape"
      ],
      "metadata": {
        "colab": {
          "base_uri": "https://localhost:8080/"
        },
        "id": "9Jl9KBJ65oIo",
        "outputId": "d1f15927-fffd-438d-eedc-b00cb9c6b434"
      },
      "execution_count": null,
      "outputs": [
        {
          "output_type": "execute_result",
          "data": {
            "text/plain": [
              "(7553, 128, 128, 3)"
            ]
          },
          "metadata": {},
          "execution_count": 4
        }
      ]
    },
    {
      "cell_type": "code",
      "source": [
        "print(img_label[0])\n",
        "print()\n",
        "img_arr[0]"
      ],
      "metadata": {
        "colab": {
          "base_uri": "https://localhost:8080/",
          "height": 203
        },
        "id": "lQs1-o8J5oLX",
        "outputId": "f122b499-c095-4b2b-909b-76600822e2e3"
      },
      "execution_count": null,
      "outputs": [
        {
          "output_type": "stream",
          "name": "stdout",
          "text": [
            "with_mask\n",
            "\n"
          ]
        },
        {
          "output_type": "execute_result",
          "data": {
            "text/plain": [
              "array([[[214, 197, 200],\n",
              "        [214, 197, 200],\n",
              "        [214, 197, 200],\n",
              "        ...,\n",
              "        [220, 209, 205],\n",
              "        [221, 210, 206],\n",
              "        [221, 210, 208]],\n",
              "\n",
              "       [[214, 197, 200],\n",
              "        [214, 197, 200],\n",
              "        [214, 197, 200],\n",
              "        ...,\n",
              "        [220, 209, 205],\n",
              "        [221, 210, 206],\n",
              "        [222, 210, 208]],\n",
              "\n",
              "       [[214, 197, 200],\n",
              "        [214, 197, 200],\n",
              "        [214, 197, 200],\n",
              "        ...,\n",
              "        [220, 208, 206],\n",
              "        [221, 209, 207],\n",
              "        [221, 210, 209]],\n",
              "\n",
              "       ...,\n",
              "\n",
              "       [[219, 204, 201],\n",
              "        [219, 204, 201],\n",
              "        [219, 204, 202],\n",
              "        ...,\n",
              "        [223, 208, 206],\n",
              "        [223, 208, 206],\n",
              "        [222, 207, 205]],\n",
              "\n",
              "       [[219, 204, 201],\n",
              "        [219, 204, 201],\n",
              "        [219, 204, 202],\n",
              "        ...,\n",
              "        [223, 208, 206],\n",
              "        [223, 208, 206],\n",
              "        [222, 207, 205]],\n",
              "\n",
              "       [[219, 204, 201],\n",
              "        [219, 204, 201],\n",
              "        [219, 204, 202],\n",
              "        ...,\n",
              "        [223, 208, 206],\n",
              "        [222, 207, 205],\n",
              "        [222, 207, 205]]], dtype=uint8)"
            ],
            "text/html": [
              "<style>\n",
              "      .ndarray_repr .ndarray_raw_data {\n",
              "        display: none;\n",
              "      }\n",
              "      .ndarray_repr.show_array .ndarray_raw_data {\n",
              "        display: block;\n",
              "      }\n",
              "      .ndarray_repr.show_array .ndarray_image_preview {\n",
              "        display: none;\n",
              "      }\n",
              "      </style>\n",
              "      <div id=\"id-554141e5-e70f-4713-82ff-9733eeaf4c0a\" class=\"ndarray_repr\"><pre>ndarray (128, 128, 3) <button style=\"padding: 0 2px;\">show data</button></pre><img src=\"data:image/png;base64,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\" class=\"ndarray_image_preview\" /><pre class=\"ndarray_raw_data\">array([[[214, 197, 200],\n",
              "        [214, 197, 200],\n",
              "        [214, 197, 200],\n",
              "        ...,\n",
              "        [220, 209, 205],\n",
              "        [221, 210, 206],\n",
              "        [221, 210, 208]],\n",
              "\n",
              "       [[214, 197, 200],\n",
              "        [214, 197, 200],\n",
              "        [214, 197, 200],\n",
              "        ...,\n",
              "        [220, 209, 205],\n",
              "        [221, 210, 206],\n",
              "        [222, 210, 208]],\n",
              "\n",
              "       [[214, 197, 200],\n",
              "        [214, 197, 200],\n",
              "        [214, 197, 200],\n",
              "        ...,\n",
              "        [220, 208, 206],\n",
              "        [221, 209, 207],\n",
              "        [221, 210, 209]],\n",
              "\n",
              "       ...,\n",
              "\n",
              "       [[219, 204, 201],\n",
              "        [219, 204, 201],\n",
              "        [219, 204, 202],\n",
              "        ...,\n",
              "        [223, 208, 206],\n",
              "        [223, 208, 206],\n",
              "        [222, 207, 205]],\n",
              "\n",
              "       [[219, 204, 201],\n",
              "        [219, 204, 201],\n",
              "        [219, 204, 202],\n",
              "        ...,\n",
              "        [223, 208, 206],\n",
              "        [223, 208, 206],\n",
              "        [222, 207, 205]],\n",
              "\n",
              "       [[219, 204, 201],\n",
              "        [219, 204, 201],\n",
              "        [219, 204, 202],\n",
              "        ...,\n",
              "        [223, 208, 206],\n",
              "        [222, 207, 205],\n",
              "        [222, 207, 205]]], dtype=uint8)</pre></div><script>\n",
              "      (() => {\n",
              "      const titles = ['show data', 'hide data'];\n",
              "      let index = 0\n",
              "      document.querySelector('#id-554141e5-e70f-4713-82ff-9733eeaf4c0a button').onclick = (e) => {\n",
              "        document.querySelector('#id-554141e5-e70f-4713-82ff-9733eeaf4c0a').classList.toggle('show_array');\n",
              "        index = (++index) % 2;\n",
              "        document.querySelector('#id-554141e5-e70f-4713-82ff-9733eeaf4c0a button').textContent = titles[index];\n",
              "        e.preventDefault();\n",
              "        e.stopPropagation();\n",
              "      }\n",
              "      })();\n",
              "    </script>"
            ]
          },
          "metadata": {},
          "execution_count": 5
        }
      ]
    },
    {
      "cell_type": "code",
      "source": [
        "print(img_label[4000])\n",
        "print()\n",
        "img_arr[4000]"
      ],
      "metadata": {
        "colab": {
          "base_uri": "https://localhost:8080/",
          "height": 203
        },
        "id": "mXOuSpXdbTbS",
        "outputId": "618239af-ce55-42cb-86c5-a77680712313"
      },
      "execution_count": null,
      "outputs": [
        {
          "output_type": "stream",
          "name": "stdout",
          "text": [
            "without_mask\n",
            "\n"
          ]
        },
        {
          "output_type": "execute_result",
          "data": {
            "text/plain": [
              "array([[[254, 254, 254],\n",
              "        [255, 255, 255],\n",
              "        [253, 253, 253],\n",
              "        ...,\n",
              "        [254, 254, 255],\n",
              "        [255, 255, 255],\n",
              "        [255, 255, 255]],\n",
              "\n",
              "       [[254, 254, 254],\n",
              "        [254, 254, 254],\n",
              "        [252, 252, 252],\n",
              "        ...,\n",
              "        [250, 249, 251],\n",
              "        [255, 255, 255],\n",
              "        [255, 255, 255]],\n",
              "\n",
              "       [[254, 254, 254],\n",
              "        [250, 250, 250],\n",
              "        [251, 251, 251],\n",
              "        ...,\n",
              "        [248, 247, 249],\n",
              "        [253, 253, 253],\n",
              "        [254, 254, 254]],\n",
              "\n",
              "       ...,\n",
              "\n",
              "       [[254, 254, 254],\n",
              "        [250, 250, 250],\n",
              "        [245, 245, 245],\n",
              "        ...,\n",
              "        [241, 246, 247],\n",
              "        [253, 255, 255],\n",
              "        [255, 255, 255]],\n",
              "\n",
              "       [[255, 255, 255],\n",
              "        [254, 254, 254],\n",
              "        [250, 250, 250],\n",
              "        ...,\n",
              "        [244, 252, 251],\n",
              "        [253, 255, 255],\n",
              "        [255, 255, 255]],\n",
              "\n",
              "       [[255, 255, 255],\n",
              "        [255, 255, 255],\n",
              "        [254, 254, 254],\n",
              "        ...,\n",
              "        [252, 255, 254],\n",
              "        [255, 255, 255],\n",
              "        [255, 255, 255]]], dtype=uint8)"
            ],
            "text/html": [
              "<style>\n",
              "      .ndarray_repr .ndarray_raw_data {\n",
              "        display: none;\n",
              "      }\n",
              "      .ndarray_repr.show_array .ndarray_raw_data {\n",
              "        display: block;\n",
              "      }\n",
              "      .ndarray_repr.show_array .ndarray_image_preview {\n",
              "        display: none;\n",
              "      }\n",
              "      </style>\n",
              "      <div id=\"id-0552a632-3a0d-4627-97fc-48d2bc17b10c\" class=\"ndarray_repr\"><pre>ndarray (128, 128, 3) <button style=\"padding: 0 2px;\">show data</button></pre><img src=\"data:image/png;base64,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\" class=\"ndarray_image_preview\" /><pre class=\"ndarray_raw_data\">array([[[254, 254, 254],\n",
              "        [255, 255, 255],\n",
              "        [253, 253, 253],\n",
              "        ...,\n",
              "        [254, 254, 255],\n",
              "        [255, 255, 255],\n",
              "        [255, 255, 255]],\n",
              "\n",
              "       [[254, 254, 254],\n",
              "        [254, 254, 254],\n",
              "        [252, 252, 252],\n",
              "        ...,\n",
              "        [250, 249, 251],\n",
              "        [255, 255, 255],\n",
              "        [255, 255, 255]],\n",
              "\n",
              "       [[254, 254, 254],\n",
              "        [250, 250, 250],\n",
              "        [251, 251, 251],\n",
              "        ...,\n",
              "        [248, 247, 249],\n",
              "        [253, 253, 253],\n",
              "        [254, 254, 254]],\n",
              "\n",
              "       ...,\n",
              "\n",
              "       [[254, 254, 254],\n",
              "        [250, 250, 250],\n",
              "        [245, 245, 245],\n",
              "        ...,\n",
              "        [241, 246, 247],\n",
              "        [253, 255, 255],\n",
              "        [255, 255, 255]],\n",
              "\n",
              "       [[255, 255, 255],\n",
              "        [254, 254, 254],\n",
              "        [250, 250, 250],\n",
              "        ...,\n",
              "        [244, 252, 251],\n",
              "        [253, 255, 255],\n",
              "        [255, 255, 255]],\n",
              "\n",
              "       [[255, 255, 255],\n",
              "        [255, 255, 255],\n",
              "        [254, 254, 254],\n",
              "        ...,\n",
              "        [252, 255, 254],\n",
              "        [255, 255, 255],\n",
              "        [255, 255, 255]]], dtype=uint8)</pre></div><script>\n",
              "      (() => {\n",
              "      const titles = ['show data', 'hide data'];\n",
              "      let index = 0\n",
              "      document.querySelector('#id-0552a632-3a0d-4627-97fc-48d2bc17b10c button').onclick = (e) => {\n",
              "        document.querySelector('#id-0552a632-3a0d-4627-97fc-48d2bc17b10c').classList.toggle('show_array');\n",
              "        index = (++index) % 2;\n",
              "        document.querySelector('#id-0552a632-3a0d-4627-97fc-48d2bc17b10c button').textContent = titles[index];\n",
              "        e.preventDefault();\n",
              "        e.stopPropagation();\n",
              "      }\n",
              "      })();\n",
              "    </script>"
            ]
          },
          "metadata": {},
          "execution_count": 6
        }
      ]
    },
    {
      "cell_type": "code",
      "source": [
        "label_counts = Counter(img_label)\n",
        "for label, count in label_counts.items():\n",
        "  print(f'{label} : {count} images')"
      ],
      "metadata": {
        "colab": {
          "base_uri": "https://localhost:8080/"
        },
        "id": "JekwJf6B5oNj",
        "outputId": "8a292ec2-ef21-4ed4-983c-aa74d041775f"
      },
      "execution_count": null,
      "outputs": [
        {
          "output_type": "stream",
          "name": "stdout",
          "text": [
            "with_mask : 3725 images\n",
            "without_mask : 3828 images\n"
          ]
        }
      ]
    },
    {
      "cell_type": "code",
      "source": [
        "from tensorflow.keras.utils import to_categorical\n",
        "from sklearn.preprocessing import LabelEncoder\n",
        "\n",
        "le = LabelEncoder()\n",
        "img_label_encode = le.fit_transform(img_label)\n",
        "\n",
        "img_label_encoded = to_categorical(img_label_encode)"
      ],
      "metadata": {
        "id": "Warl_B3xcP7E"
      },
      "execution_count": null,
      "outputs": []
    },
    {
      "cell_type": "code",
      "source": [
        "from sklearn.model_selection import train_test_split\n",
        "\n",
        "x_train, x_test, y_train, y_test = train_test_split(img_arr, img_label_encoded, test_size=0.2, random_state=42)"
      ],
      "metadata": {
        "id": "fncJzIT7cQDK"
      },
      "execution_count": null,
      "outputs": []
    },
    {
      "cell_type": "code",
      "source": [
        "x_train = x_train/255.0\n",
        "x_test = x_test/255.0"
      ],
      "metadata": {
        "id": "lJ45Btg5cQI0"
      },
      "execution_count": null,
      "outputs": []
    },
    {
      "cell_type": "code",
      "source": [
        "import tensorflow as tf\n",
        "tf.random.set_seed(42)\n",
        "from tensorflow import keras\n",
        "\n",
        "n = 2\n",
        "\n",
        "model = keras.Sequential()\n",
        "\n",
        "model.add(keras.layers.Conv2D(32, (3,3), activation = 'relu', input_shape= (128,128,3)))\n",
        "model.add(keras.layers.BatchNormalization())\n",
        "model.add(keras.layers.MaxPooling2D((2,2)))\n",
        "\n",
        "model.add(keras.layers.Conv2D(64, (3,3), activation='relu'))\n",
        "model.add(keras.layers.BatchNormalization())\n",
        "model.add(keras.layers.MaxPooling2D((2,2)))\n",
        "\n",
        "model.add(keras.layers.Flatten())\n",
        "\n",
        "model.add(keras.layers.Dense(64, activation = 'relu'))\n",
        "model.add(keras.layers.BatchNormalization())\n",
        "model.add(keras.layers.Dropout(0.2))\n",
        "\n",
        "model.add(keras.layers.Dense(32, activation = 'relu'))\n",
        "model.add(keras.layers.BatchNormalization())\n",
        "model.add(keras.layers.Dropout(0.2))\n",
        "\n",
        "model.add(keras.layers.Dense(n, activation = 'sigmoid'))"
      ],
      "metadata": {
        "colab": {
          "base_uri": "https://localhost:8080/"
        },
        "id": "pGTF7b0Qt2Mk",
        "outputId": "6a90cf91-0cd7-4bd9-9b8d-ceee01331fbf"
      },
      "execution_count": null,
      "outputs": [
        {
          "output_type": "stream",
          "name": "stderr",
          "text": [
            "/usr/local/lib/python3.11/dist-packages/keras/src/layers/convolutional/base_conv.py:107: UserWarning: Do not pass an `input_shape`/`input_dim` argument to a layer. When using Sequential models, prefer using an `Input(shape)` object as the first layer in the model instead.\n",
            "  super().__init__(activity_regularizer=activity_regularizer, **kwargs)\n"
          ]
        }
      ]
    },
    {
      "cell_type": "code",
      "source": [
        "model.summary()"
      ],
      "metadata": {
        "colab": {
          "base_uri": "https://localhost:8080/",
          "height": 641
        },
        "id": "pj5NFnTyt2Yx",
        "outputId": "ec401013-359a-4214-ae7e-94d16694c59e"
      },
      "execution_count": null,
      "outputs": [
        {
          "output_type": "display_data",
          "data": {
            "text/plain": [
              "\u001b[1mModel: \"sequential\"\u001b[0m\n"
            ],
            "text/html": [
              "<pre style=\"white-space:pre;overflow-x:auto;line-height:normal;font-family:Menlo,'DejaVu Sans Mono',consolas,'Courier New',monospace\"><span style=\"font-weight: bold\">Model: \"sequential\"</span>\n",
              "</pre>\n"
            ]
          },
          "metadata": {}
        },
        {
          "output_type": "display_data",
          "data": {
            "text/plain": [
              "┏━━━━━━━━━━━━━━━━━━━━━━━━━━━━━━━━━━━━━━┳━━━━━━━━━━━━━━━━━━━━━━━━━━━━━┳━━━━━━━━━━━━━━━━━┓\n",
              "┃\u001b[1m \u001b[0m\u001b[1mLayer (type)                        \u001b[0m\u001b[1m \u001b[0m┃\u001b[1m \u001b[0m\u001b[1mOutput Shape               \u001b[0m\u001b[1m \u001b[0m┃\u001b[1m \u001b[0m\u001b[1m        Param #\u001b[0m\u001b[1m \u001b[0m┃\n",
              "┡━━━━━━━━━━━━━━━━━━━━━━━━━━━━━━━━━━━━━━╇━━━━━━━━━━━━━━━━━━━━━━━━━━━━━╇━━━━━━━━━━━━━━━━━┩\n",
              "│ conv2d (\u001b[38;5;33mConv2D\u001b[0m)                      │ (\u001b[38;5;45mNone\u001b[0m, \u001b[38;5;34m126\u001b[0m, \u001b[38;5;34m126\u001b[0m, \u001b[38;5;34m32\u001b[0m)        │             \u001b[38;5;34m896\u001b[0m │\n",
              "├──────────────────────────────────────┼─────────────────────────────┼─────────────────┤\n",
              "│ batch_normalization                  │ (\u001b[38;5;45mNone\u001b[0m, \u001b[38;5;34m126\u001b[0m, \u001b[38;5;34m126\u001b[0m, \u001b[38;5;34m32\u001b[0m)        │             \u001b[38;5;34m128\u001b[0m │\n",
              "│ (\u001b[38;5;33mBatchNormalization\u001b[0m)                 │                             │                 │\n",
              "├──────────────────────────────────────┼─────────────────────────────┼─────────────────┤\n",
              "│ max_pooling2d (\u001b[38;5;33mMaxPooling2D\u001b[0m)         │ (\u001b[38;5;45mNone\u001b[0m, \u001b[38;5;34m63\u001b[0m, \u001b[38;5;34m63\u001b[0m, \u001b[38;5;34m32\u001b[0m)          │               \u001b[38;5;34m0\u001b[0m │\n",
              "├──────────────────────────────────────┼─────────────────────────────┼─────────────────┤\n",
              "│ conv2d_1 (\u001b[38;5;33mConv2D\u001b[0m)                    │ (\u001b[38;5;45mNone\u001b[0m, \u001b[38;5;34m61\u001b[0m, \u001b[38;5;34m61\u001b[0m, \u001b[38;5;34m64\u001b[0m)          │          \u001b[38;5;34m18,496\u001b[0m │\n",
              "├──────────────────────────────────────┼─────────────────────────────┼─────────────────┤\n",
              "│ batch_normalization_1                │ (\u001b[38;5;45mNone\u001b[0m, \u001b[38;5;34m61\u001b[0m, \u001b[38;5;34m61\u001b[0m, \u001b[38;5;34m64\u001b[0m)          │             \u001b[38;5;34m256\u001b[0m │\n",
              "│ (\u001b[38;5;33mBatchNormalization\u001b[0m)                 │                             │                 │\n",
              "├──────────────────────────────────────┼─────────────────────────────┼─────────────────┤\n",
              "│ max_pooling2d_1 (\u001b[38;5;33mMaxPooling2D\u001b[0m)       │ (\u001b[38;5;45mNone\u001b[0m, \u001b[38;5;34m30\u001b[0m, \u001b[38;5;34m30\u001b[0m, \u001b[38;5;34m64\u001b[0m)          │               \u001b[38;5;34m0\u001b[0m │\n",
              "├──────────────────────────────────────┼─────────────────────────────┼─────────────────┤\n",
              "│ flatten (\u001b[38;5;33mFlatten\u001b[0m)                    │ (\u001b[38;5;45mNone\u001b[0m, \u001b[38;5;34m57600\u001b[0m)               │               \u001b[38;5;34m0\u001b[0m │\n",
              "├──────────────────────────────────────┼─────────────────────────────┼─────────────────┤\n",
              "│ dense (\u001b[38;5;33mDense\u001b[0m)                        │ (\u001b[38;5;45mNone\u001b[0m, \u001b[38;5;34m64\u001b[0m)                  │       \u001b[38;5;34m3,686,464\u001b[0m │\n",
              "├──────────────────────────────────────┼─────────────────────────────┼─────────────────┤\n",
              "│ batch_normalization_2                │ (\u001b[38;5;45mNone\u001b[0m, \u001b[38;5;34m64\u001b[0m)                  │             \u001b[38;5;34m256\u001b[0m │\n",
              "│ (\u001b[38;5;33mBatchNormalization\u001b[0m)                 │                             │                 │\n",
              "├──────────────────────────────────────┼─────────────────────────────┼─────────────────┤\n",
              "│ dropout (\u001b[38;5;33mDropout\u001b[0m)                    │ (\u001b[38;5;45mNone\u001b[0m, \u001b[38;5;34m64\u001b[0m)                  │               \u001b[38;5;34m0\u001b[0m │\n",
              "├──────────────────────────────────────┼─────────────────────────────┼─────────────────┤\n",
              "│ dense_1 (\u001b[38;5;33mDense\u001b[0m)                      │ (\u001b[38;5;45mNone\u001b[0m, \u001b[38;5;34m32\u001b[0m)                  │           \u001b[38;5;34m2,080\u001b[0m │\n",
              "├──────────────────────────────────────┼─────────────────────────────┼─────────────────┤\n",
              "│ batch_normalization_3                │ (\u001b[38;5;45mNone\u001b[0m, \u001b[38;5;34m32\u001b[0m)                  │             \u001b[38;5;34m128\u001b[0m │\n",
              "│ (\u001b[38;5;33mBatchNormalization\u001b[0m)                 │                             │                 │\n",
              "├──────────────────────────────────────┼─────────────────────────────┼─────────────────┤\n",
              "│ dropout_1 (\u001b[38;5;33mDropout\u001b[0m)                  │ (\u001b[38;5;45mNone\u001b[0m, \u001b[38;5;34m32\u001b[0m)                  │               \u001b[38;5;34m0\u001b[0m │\n",
              "├──────────────────────────────────────┼─────────────────────────────┼─────────────────┤\n",
              "│ dense_2 (\u001b[38;5;33mDense\u001b[0m)                      │ (\u001b[38;5;45mNone\u001b[0m, \u001b[38;5;34m2\u001b[0m)                   │              \u001b[38;5;34m66\u001b[0m │\n",
              "└──────────────────────────────────────┴─────────────────────────────┴─────────────────┘\n"
            ],
            "text/html": [
              "<pre style=\"white-space:pre;overflow-x:auto;line-height:normal;font-family:Menlo,'DejaVu Sans Mono',consolas,'Courier New',monospace\">┏━━━━━━━━━━━━━━━━━━━━━━━━━━━━━━━━━━━━━━┳━━━━━━━━━━━━━━━━━━━━━━━━━━━━━┳━━━━━━━━━━━━━━━━━┓\n",
              "┃<span style=\"font-weight: bold\"> Layer (type)                         </span>┃<span style=\"font-weight: bold\"> Output Shape                </span>┃<span style=\"font-weight: bold\">         Param # </span>┃\n",
              "┡━━━━━━━━━━━━━━━━━━━━━━━━━━━━━━━━━━━━━━╇━━━━━━━━━━━━━━━━━━━━━━━━━━━━━╇━━━━━━━━━━━━━━━━━┩\n",
              "│ conv2d (<span style=\"color: #0087ff; text-decoration-color: #0087ff\">Conv2D</span>)                      │ (<span style=\"color: #00d7ff; text-decoration-color: #00d7ff\">None</span>, <span style=\"color: #00af00; text-decoration-color: #00af00\">126</span>, <span style=\"color: #00af00; text-decoration-color: #00af00\">126</span>, <span style=\"color: #00af00; text-decoration-color: #00af00\">32</span>)        │             <span style=\"color: #00af00; text-decoration-color: #00af00\">896</span> │\n",
              "├──────────────────────────────────────┼─────────────────────────────┼─────────────────┤\n",
              "│ batch_normalization                  │ (<span style=\"color: #00d7ff; text-decoration-color: #00d7ff\">None</span>, <span style=\"color: #00af00; text-decoration-color: #00af00\">126</span>, <span style=\"color: #00af00; text-decoration-color: #00af00\">126</span>, <span style=\"color: #00af00; text-decoration-color: #00af00\">32</span>)        │             <span style=\"color: #00af00; text-decoration-color: #00af00\">128</span> │\n",
              "│ (<span style=\"color: #0087ff; text-decoration-color: #0087ff\">BatchNormalization</span>)                 │                             │                 │\n",
              "├──────────────────────────────────────┼─────────────────────────────┼─────────────────┤\n",
              "│ max_pooling2d (<span style=\"color: #0087ff; text-decoration-color: #0087ff\">MaxPooling2D</span>)         │ (<span style=\"color: #00d7ff; text-decoration-color: #00d7ff\">None</span>, <span style=\"color: #00af00; text-decoration-color: #00af00\">63</span>, <span style=\"color: #00af00; text-decoration-color: #00af00\">63</span>, <span style=\"color: #00af00; text-decoration-color: #00af00\">32</span>)          │               <span style=\"color: #00af00; text-decoration-color: #00af00\">0</span> │\n",
              "├──────────────────────────────────────┼─────────────────────────────┼─────────────────┤\n",
              "│ conv2d_1 (<span style=\"color: #0087ff; text-decoration-color: #0087ff\">Conv2D</span>)                    │ (<span style=\"color: #00d7ff; text-decoration-color: #00d7ff\">None</span>, <span style=\"color: #00af00; text-decoration-color: #00af00\">61</span>, <span style=\"color: #00af00; text-decoration-color: #00af00\">61</span>, <span style=\"color: #00af00; text-decoration-color: #00af00\">64</span>)          │          <span style=\"color: #00af00; text-decoration-color: #00af00\">18,496</span> │\n",
              "├──────────────────────────────────────┼─────────────────────────────┼─────────────────┤\n",
              "│ batch_normalization_1                │ (<span style=\"color: #00d7ff; text-decoration-color: #00d7ff\">None</span>, <span style=\"color: #00af00; text-decoration-color: #00af00\">61</span>, <span style=\"color: #00af00; text-decoration-color: #00af00\">61</span>, <span style=\"color: #00af00; text-decoration-color: #00af00\">64</span>)          │             <span style=\"color: #00af00; text-decoration-color: #00af00\">256</span> │\n",
              "│ (<span style=\"color: #0087ff; text-decoration-color: #0087ff\">BatchNormalization</span>)                 │                             │                 │\n",
              "├──────────────────────────────────────┼─────────────────────────────┼─────────────────┤\n",
              "│ max_pooling2d_1 (<span style=\"color: #0087ff; text-decoration-color: #0087ff\">MaxPooling2D</span>)       │ (<span style=\"color: #00d7ff; text-decoration-color: #00d7ff\">None</span>, <span style=\"color: #00af00; text-decoration-color: #00af00\">30</span>, <span style=\"color: #00af00; text-decoration-color: #00af00\">30</span>, <span style=\"color: #00af00; text-decoration-color: #00af00\">64</span>)          │               <span style=\"color: #00af00; text-decoration-color: #00af00\">0</span> │\n",
              "├──────────────────────────────────────┼─────────────────────────────┼─────────────────┤\n",
              "│ flatten (<span style=\"color: #0087ff; text-decoration-color: #0087ff\">Flatten</span>)                    │ (<span style=\"color: #00d7ff; text-decoration-color: #00d7ff\">None</span>, <span style=\"color: #00af00; text-decoration-color: #00af00\">57600</span>)               │               <span style=\"color: #00af00; text-decoration-color: #00af00\">0</span> │\n",
              "├──────────────────────────────────────┼─────────────────────────────┼─────────────────┤\n",
              "│ dense (<span style=\"color: #0087ff; text-decoration-color: #0087ff\">Dense</span>)                        │ (<span style=\"color: #00d7ff; text-decoration-color: #00d7ff\">None</span>, <span style=\"color: #00af00; text-decoration-color: #00af00\">64</span>)                  │       <span style=\"color: #00af00; text-decoration-color: #00af00\">3,686,464</span> │\n",
              "├──────────────────────────────────────┼─────────────────────────────┼─────────────────┤\n",
              "│ batch_normalization_2                │ (<span style=\"color: #00d7ff; text-decoration-color: #00d7ff\">None</span>, <span style=\"color: #00af00; text-decoration-color: #00af00\">64</span>)                  │             <span style=\"color: #00af00; text-decoration-color: #00af00\">256</span> │\n",
              "│ (<span style=\"color: #0087ff; text-decoration-color: #0087ff\">BatchNormalization</span>)                 │                             │                 │\n",
              "├──────────────────────────────────────┼─────────────────────────────┼─────────────────┤\n",
              "│ dropout (<span style=\"color: #0087ff; text-decoration-color: #0087ff\">Dropout</span>)                    │ (<span style=\"color: #00d7ff; text-decoration-color: #00d7ff\">None</span>, <span style=\"color: #00af00; text-decoration-color: #00af00\">64</span>)                  │               <span style=\"color: #00af00; text-decoration-color: #00af00\">0</span> │\n",
              "├──────────────────────────────────────┼─────────────────────────────┼─────────────────┤\n",
              "│ dense_1 (<span style=\"color: #0087ff; text-decoration-color: #0087ff\">Dense</span>)                      │ (<span style=\"color: #00d7ff; text-decoration-color: #00d7ff\">None</span>, <span style=\"color: #00af00; text-decoration-color: #00af00\">32</span>)                  │           <span style=\"color: #00af00; text-decoration-color: #00af00\">2,080</span> │\n",
              "├──────────────────────────────────────┼─────────────────────────────┼─────────────────┤\n",
              "│ batch_normalization_3                │ (<span style=\"color: #00d7ff; text-decoration-color: #00d7ff\">None</span>, <span style=\"color: #00af00; text-decoration-color: #00af00\">32</span>)                  │             <span style=\"color: #00af00; text-decoration-color: #00af00\">128</span> │\n",
              "│ (<span style=\"color: #0087ff; text-decoration-color: #0087ff\">BatchNormalization</span>)                 │                             │                 │\n",
              "├──────────────────────────────────────┼─────────────────────────────┼─────────────────┤\n",
              "│ dropout_1 (<span style=\"color: #0087ff; text-decoration-color: #0087ff\">Dropout</span>)                  │ (<span style=\"color: #00d7ff; text-decoration-color: #00d7ff\">None</span>, <span style=\"color: #00af00; text-decoration-color: #00af00\">32</span>)                  │               <span style=\"color: #00af00; text-decoration-color: #00af00\">0</span> │\n",
              "├──────────────────────────────────────┼─────────────────────────────┼─────────────────┤\n",
              "│ dense_2 (<span style=\"color: #0087ff; text-decoration-color: #0087ff\">Dense</span>)                      │ (<span style=\"color: #00d7ff; text-decoration-color: #00d7ff\">None</span>, <span style=\"color: #00af00; text-decoration-color: #00af00\">2</span>)                   │              <span style=\"color: #00af00; text-decoration-color: #00af00\">66</span> │\n",
              "└──────────────────────────────────────┴─────────────────────────────┴─────────────────┘\n",
              "</pre>\n"
            ]
          },
          "metadata": {}
        },
        {
          "output_type": "display_data",
          "data": {
            "text/plain": [
              "\u001b[1m Total params: \u001b[0m\u001b[38;5;34m3,708,770\u001b[0m (14.15 MB)\n"
            ],
            "text/html": [
              "<pre style=\"white-space:pre;overflow-x:auto;line-height:normal;font-family:Menlo,'DejaVu Sans Mono',consolas,'Courier New',monospace\"><span style=\"font-weight: bold\"> Total params: </span><span style=\"color: #00af00; text-decoration-color: #00af00\">3,708,770</span> (14.15 MB)\n",
              "</pre>\n"
            ]
          },
          "metadata": {}
        },
        {
          "output_type": "display_data",
          "data": {
            "text/plain": [
              "\u001b[1m Trainable params: \u001b[0m\u001b[38;5;34m3,708,386\u001b[0m (14.15 MB)\n"
            ],
            "text/html": [
              "<pre style=\"white-space:pre;overflow-x:auto;line-height:normal;font-family:Menlo,'DejaVu Sans Mono',consolas,'Courier New',monospace\"><span style=\"font-weight: bold\"> Trainable params: </span><span style=\"color: #00af00; text-decoration-color: #00af00\">3,708,386</span> (14.15 MB)\n",
              "</pre>\n"
            ]
          },
          "metadata": {}
        },
        {
          "output_type": "display_data",
          "data": {
            "text/plain": [
              "\u001b[1m Non-trainable params: \u001b[0m\u001b[38;5;34m384\u001b[0m (1.50 KB)\n"
            ],
            "text/html": [
              "<pre style=\"white-space:pre;overflow-x:auto;line-height:normal;font-family:Menlo,'DejaVu Sans Mono',consolas,'Courier New',monospace\"><span style=\"font-weight: bold\"> Non-trainable params: </span><span style=\"color: #00af00; text-decoration-color: #00af00\">384</span> (1.50 KB)\n",
              "</pre>\n"
            ]
          },
          "metadata": {}
        }
      ]
    },
    {
      "cell_type": "code",
      "source": [
        "model.compile(optimizer = 'adam',\n",
        "              loss = 'binary_crossentropy',\n",
        "              metrics = ['accuracy'])"
      ],
      "metadata": {
        "id": "0PEAjvYZt2jr"
      },
      "execution_count": null,
      "outputs": []
    },
    {
      "cell_type": "code",
      "source": [
        "lr_scheduler = keras.callbacks.ReduceLROnPlateau(monitor = 'val_loss',\n",
        "                                                 factor = 0.1,\n",
        "                                                 patience = 2,\n",
        "                                                 min_lr = 1e-6)"
      ],
      "metadata": {
        "id": "rGKQpbYn0Vey"
      },
      "execution_count": null,
      "outputs": []
    },
    {
      "cell_type": "code",
      "source": [
        "early_Stopper = keras.callbacks.EarlyStopping(monitor = 'val_loss',\n",
        "                                              patience = 3,\n",
        "                                              restore_best_weights = True)"
      ],
      "metadata": {
        "id": "ZENQc-zW71hN"
      },
      "execution_count": null,
      "outputs": []
    },
    {
      "cell_type": "code",
      "source": [
        "history = model.fit(x_train, y_train, epochs = 10, validation_split = 0.1, callbacks = [lr_scheduler, early_Stopper])"
      ],
      "metadata": {
        "colab": {
          "base_uri": "https://localhost:8080/"
        },
        "id": "8-aVpdjXt2tW",
        "outputId": "342ab174-c0b9-4ad7-9778-d5f28e1c982f"
      },
      "execution_count": null,
      "outputs": [
        {
          "output_type": "stream",
          "name": "stdout",
          "text": [
            "Epoch 1/10\n",
            "\u001b[1m170/170\u001b[0m \u001b[32m━━━━━━━━━━━━━━━━━━━━\u001b[0m\u001b[37m\u001b[0m \u001b[1m209s\u001b[0m 1s/step - accuracy: 0.8317 - loss: 0.4191 - val_accuracy: 0.5967 - val_loss: 0.6473 - learning_rate: 0.0010\n",
            "Epoch 2/10\n",
            "\u001b[1m170/170\u001b[0m \u001b[32m━━━━━━━━━━━━━━━━━━━━\u001b[0m\u001b[37m\u001b[0m \u001b[1m264s\u001b[0m 1s/step - accuracy: 0.9168 - loss: 0.2240 - val_accuracy: 0.6942 - val_loss: 0.6203 - learning_rate: 0.0010\n",
            "Epoch 3/10\n",
            "\u001b[1m170/170\u001b[0m \u001b[32m━━━━━━━━━━━━━━━━━━━━\u001b[0m\u001b[37m\u001b[0m \u001b[1m276s\u001b[0m 1s/step - accuracy: 0.9462 - loss: 0.1537 - val_accuracy: 0.8364 - val_loss: 0.3894 - learning_rate: 0.0010\n",
            "Epoch 4/10\n",
            "\u001b[1m170/170\u001b[0m \u001b[32m━━━━━━━━━━━━━━━━━━━━\u001b[0m\u001b[37m\u001b[0m \u001b[1m249s\u001b[0m 1s/step - accuracy: 0.9597 - loss: 0.1154 - val_accuracy: 0.9223 - val_loss: 0.2303 - learning_rate: 0.0010\n",
            "Epoch 5/10\n",
            "\u001b[1m170/170\u001b[0m \u001b[32m━━━━━━━━━━━━━━━━━━━━\u001b[0m\u001b[37m\u001b[0m \u001b[1m201s\u001b[0m 1s/step - accuracy: 0.9661 - loss: 0.0990 - val_accuracy: 0.9008 - val_loss: 0.3021 - learning_rate: 0.0010\n",
            "Epoch 6/10\n",
            "\u001b[1m170/170\u001b[0m \u001b[32m━━━━━━━━━━━━━━━━━━━━\u001b[0m\u001b[37m\u001b[0m \u001b[1m196s\u001b[0m 1s/step - accuracy: 0.9754 - loss: 0.0736 - val_accuracy: 0.9421 - val_loss: 0.1709 - learning_rate: 0.0010\n",
            "Epoch 7/10\n",
            "\u001b[1m170/170\u001b[0m \u001b[32m━━━━━━━━━━━━━━━━━━━━\u001b[0m\u001b[37m\u001b[0m \u001b[1m207s\u001b[0m 1s/step - accuracy: 0.9782 - loss: 0.0586 - val_accuracy: 0.8793 - val_loss: 0.5013 - learning_rate: 0.0010\n",
            "Epoch 8/10\n",
            "\u001b[1m170/170\u001b[0m \u001b[32m━━━━━━━━━━━━━━━━━━━━\u001b[0m\u001b[37m\u001b[0m \u001b[1m205s\u001b[0m 1s/step - accuracy: 0.9859 - loss: 0.0376 - val_accuracy: 0.9405 - val_loss: 0.2464 - learning_rate: 0.0010\n",
            "Epoch 9/10\n",
            "\u001b[1m170/170\u001b[0m \u001b[32m━━━━━━━━━━━━━━━━━━━━\u001b[0m\u001b[37m\u001b[0m \u001b[1m261s\u001b[0m 1s/step - accuracy: 0.9905 - loss: 0.0286 - val_accuracy: 0.9488 - val_loss: 0.1647 - learning_rate: 1.0000e-04\n",
            "Epoch 10/10\n",
            "\u001b[1m170/170\u001b[0m \u001b[32m━━━━━━━━━━━━━━━━━━━━\u001b[0m\u001b[37m\u001b[0m \u001b[1m199s\u001b[0m 1s/step - accuracy: 0.9962 - loss: 0.0161 - val_accuracy: 0.9504 - val_loss: 0.1634 - learning_rate: 1.0000e-04\n"
          ]
        }
      ]
    },
    {
      "cell_type": "code",
      "source": [
        "loss, accuracy = model.evaluate(x_test, y_test)\n",
        "\n",
        "print(f'Test Accuracy: {accuracy*100:.3f}')"
      ],
      "metadata": {
        "colab": {
          "base_uri": "https://localhost:8080/"
        },
        "id": "QpHwyBept26S",
        "outputId": "82575b85-e963-4e3c-b347-5b12e03e7af6"
      },
      "execution_count": null,
      "outputs": [
        {
          "output_type": "stream",
          "name": "stdout",
          "text": [
            "\u001b[1m48/48\u001b[0m \u001b[32m━━━━━━━━━━━━━━━━━━━━\u001b[0m\u001b[37m\u001b[0m \u001b[1m11s\u001b[0m 233ms/step - accuracy: 0.9344 - loss: 0.2063\n",
            "Test Accuracy: 93.845\n"
          ]
        }
      ]
    }
  ]
}